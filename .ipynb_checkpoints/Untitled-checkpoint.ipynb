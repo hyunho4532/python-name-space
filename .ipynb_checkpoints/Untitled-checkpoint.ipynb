{
 "cells": [
  {
   "cell_type": "code",
   "execution_count": 2,
   "id": "18a8cd35-c811-4118-bcfc-479fe7863170",
   "metadata": {
    "tags": []
   },
   "outputs": [
    {
     "data": {
      "text/plain": [
       "True"
      ]
     },
     "execution_count": 2,
     "metadata": {},
     "output_type": "execute_result"
    }
   ],
   "source": [
    "a = ['python', 'c', 'java', 'go']\n",
    "\n",
    "type(a)\n",
    "\n",
    "b = ['c', 'python', 'java', 'go']\n",
    "c = ['python', 'c', 'java', 'go']\n",
    "a == c"
   ]
  },
  {
   "cell_type": "code",
   "execution_count": 3,
   "id": "584dab53-c479-49f8-99f2-150e17d409bb",
   "metadata": {
    "tags": []
   },
   "outputs": [
    {
     "data": {
      "text/plain": [
       "140275936984896"
      ]
     },
     "execution_count": 3,
     "metadata": {},
     "output_type": "execute_result"
    }
   ],
   "source": [
    "a is b\n",
    "a is c\n",
    "id(a)\n",
    "id(b)\n",
    "id(c)"
   ]
  },
  {
   "cell_type": "code",
   "execution_count": 6,
   "id": "637b4607-5dc8-4bd9-9bda-c026e566dfe4",
   "metadata": {
    "tags": []
   },
   "outputs": [
    {
     "data": {
      "text/plain": [
       "True"
      ]
     },
     "execution_count": 6,
     "metadata": {},
     "output_type": "execute_result"
    }
   ],
   "source": [
    "d = a\n",
    "id(d)\n",
    "a is d"
   ]
  },
  {
   "cell_type": "code",
   "execution_count": 18,
   "id": "33a9724b-9cbf-448c-9b79-5901d8232d50",
   "metadata": {
    "tags": []
   },
   "outputs": [
    {
     "data": {
      "text/plain": [
       "[int,\n",
       " <function len(obj, /)>,\n",
       " <module 'math' from '/usr/local/python/3.10.4/lib/python3.10/lib-dynload/math.cpython-310-x86_64-linux-gnu.so'>,\n",
       " ['python', 'c', 'java', 'go']]"
      ]
     },
     "execution_count": 18,
     "metadata": {},
     "output_type": "execute_result"
    }
   ],
   "source": [
    "int\n",
    "len\n",
    "import math\n",
    "math\n",
    "data = [int, len, math, a]\n",
    "data\n",
    "data[1]('python')\n",
    "data[:]\n",
    "data[::-1]\n",
    "data[1:4]"
   ]
  },
  {
   "cell_type": "raw",
   "id": "b478af9c-ec1e-4cef-a441-8ec89a98e7b0",
   "metadata": {},
   "source": []
  },
  {
   "cell_type": "code",
   "execution_count": 19,
   "id": "8b5ade64-84bd-43ec-9b51-18cf7c22bf7b",
   "metadata": {
    "tags": []
   },
   "outputs": [
    {
     "data": {
      "text/plain": [
       "[int,\n",
       " <function max>,\n",
       " <module 'math' from '/usr/local/python/3.10.4/lib/python3.10/lib-dynload/math.cpython-310-x86_64-linux-gnu.so'>,\n",
       " ['python', 'c', 'java', 'go']]"
      ]
     },
     "execution_count": 19,
     "metadata": {},
     "output_type": "execute_result"
    }
   ],
   "source": [
    "data[1] = max\n",
    "data\n",
    "data[1]([2, 3, 4, 5])\n",
    "data"
   ]
  },
  {
   "cell_type": "code",
   "execution_count": null,
   "id": "6eac3c35-8fb2-4335-99aa-c48cb0778a7a",
   "metadata": {},
   "outputs": [],
   "source": []
  }
 ],
 "metadata": {
  "kernelspec": {
   "display_name": "Python 3 (ipykernel)",
   "language": "python",
   "name": "python3"
  },
  "language_info": {
   "codemirror_mode": {
    "name": "ipython",
    "version": 3
   },
   "file_extension": ".py",
   "mimetype": "text/x-python",
   "name": "python",
   "nbconvert_exporter": "python",
   "pygments_lexer": "ipython3",
   "version": "3.10.4"
  }
 },
 "nbformat": 4,
 "nbformat_minor": 5
}
