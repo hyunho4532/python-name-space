{
 "cells": [
  {
   "cell_type": "code",
   "execution_count": 2,
   "id": "18a8cd35-c811-4118-bcfc-479fe7863170",
   "metadata": {
    "tags": []
   },
   "outputs": [
    {
     "data": {
      "text/plain": [
       "True"
      ]
     },
     "execution_count": 2,
     "metadata": {},
     "output_type": "execute_result"
    }
   ],
   "source": [
    "a = ['python', 'c', 'java', 'go']\n",
    "\n",
    "type(a)\n",
    "\n",
    "b = ['c', 'python', 'java', 'go']\n",
    "c = ['python', 'c', 'java', 'go']\n",
    "a == c"
   ]
  },
  {
   "cell_type": "code",
   "execution_count": 3,
   "id": "584dab53-c479-49f8-99f2-150e17d409bb",
   "metadata": {
    "tags": []
   },
   "outputs": [
    {
     "data": {
      "text/plain": [
       "140275936984896"
      ]
     },
     "execution_count": 3,
     "metadata": {},
     "output_type": "execute_result"
    }
   ],
   "source": [
    "a is b\n",
    "a is c\n",
    "id(a)\n",
    "id(b)\n",
    "id(c)"
   ]
  },
  {
   "cell_type": "code",
   "execution_count": 6,
   "id": "637b4607-5dc8-4bd9-9bda-c026e566dfe4",
   "metadata": {
    "tags": []
   },
   "outputs": [
    {
     "data": {
      "text/plain": [
       "True"
      ]
     },
     "execution_count": 6,
     "metadata": {},
     "output_type": "execute_result"
    }
   ],
   "source": [
    "d = a\n",
    "id(d)\n",
    "a is d"
   ]
  },
  {
   "cell_type": "code",
   "execution_count": 20,
   "id": "33a9724b-9cbf-448c-9b79-5901d8232d50",
   "metadata": {
    "tags": []
   },
   "outputs": [
    {
     "data": {
      "text/plain": [
       "[<function len(obj, /)>,\n",
       " <module 'math' from '/usr/local/python/3.10.4/lib/python3.10/lib-dynload/math.cpython-310-x86_64-linux-gnu.so'>,\n",
       " ['python', 'c', 'java', 'go']]"
      ]
     },
     "execution_count": 20,
     "metadata": {},
     "output_type": "execute_result"
    }
   ],
   "source": [
    "int\n",
    "len\n",
    "import math\n",
    "math\n",
    "data = [int, len, math, a]\n",
    "data\n",
    "data[1]('python')\n",
    "data[:]\n",
    "data[::-1]\n",
    "data[1:4]"
   ]
  },
  {
   "cell_type": "code",
   "execution_count": 19,
   "id": "8b5ade64-84bd-43ec-9b51-18cf7c22bf7b",
   "metadata": {
    "tags": []
   },
   "outputs": [
    {
     "data": {
      "text/plain": [
       "[int,\n",
       " <function max>,\n",
       " <module 'math' from '/usr/local/python/3.10.4/lib/python3.10/lib-dynload/math.cpython-310-x86_64-linux-gnu.so'>,\n",
       " ['python', 'c', 'java', 'go']]"
      ]
     },
     "execution_count": 19,
     "metadata": {},
     "output_type": "execute_result"
    }
   ],
   "source": [
    "data[1] = max\n",
    "data\n",
    "data[1]([2, 3, 4, 5])\n",
    "data"
   ]
  },
  {
   "cell_type": "code",
   "execution_count": 22,
   "id": "6eac3c35-8fb2-4335-99aa-c48cb0778a7a",
   "metadata": {
    "tags": []
   },
   "outputs": [
    {
     "data": {
      "text/plain": [
       "[float,\n",
       " <function len(obj, /)>,\n",
       " <module 'math' from '/usr/local/python/3.10.4/lib/python3.10/lib-dynload/math.cpython-310-x86_64-linux-gnu.so'>,\n",
       " ['python', 'c', 'java', 'go']]"
      ]
     },
     "execution_count": 22,
     "metadata": {},
     "output_type": "execute_result"
    }
   ],
   "source": [
    "data[0:1] = [float]\n",
    "data"
   ]
  },
  {
   "cell_type": "code",
   "execution_count": 1,
   "id": "050db02c-3960-41c7-bee5-3d65eda2ced9",
   "metadata": {},
   "outputs": [
    {
     "name": "stdout",
     "output_type": "stream",
     "text": [
      "파인애플\n",
      "['사과', '귤', '복숭아', '파인애플'] 140137956232896\n",
      "['사과', '귤', '복숭아'] 140137955816064\n"
     ]
    }
   ],
   "source": [
    "f1 = ['사과', '귤', '복숭아', '파인애플']\n",
    "f2 = list(f1)\n",
    "print(f2.pop())\n",
    "print(f1, id(f1))\n",
    "print(f2, id(f2))"
   ]
  },
  {
   "cell_type": "code",
   "execution_count": 5,
   "id": "47a6fd53-1d55-4bf3-b22c-2e48963f133a",
   "metadata": {
    "tags": []
   },
   "outputs": [
    {
     "data": {
      "text/plain": [
       "[0, 1, 4, 9, 16, 25, 36, 49, 64, 81]"
      ]
     },
     "execution_count": 5,
     "metadata": {},
     "output_type": "execute_result"
    }
   ],
   "source": [
    "[i for i in range(10)]\n",
    "[i * i for i in range(10)]"
   ]
  },
  {
   "cell_type": "code",
   "execution_count": 9,
   "id": "18a12b35-4922-4ee4-83de-a5ea97c15770",
   "metadata": {
    "tags": []
   },
   "outputs": [
    {
     "data": {
      "text/plain": [
       "[4, 10, 16]"
      ]
     },
     "execution_count": 9,
     "metadata": {},
     "output_type": "execute_result"
    }
   ],
   "source": [
    "[i for i in range(1, 10, 2)]\n",
    "[i for i in range(1, 10, 3) if i % 2 == 1]\n",
    "[i for i in range(1, 20, 3) if i % 2 == 0]"
   ]
  },
  {
   "cell_type": "code",
   "execution_count": 11,
   "id": "b9c33742-4a62-4f70-8c19-02152bdf6d02",
   "metadata": {
    "tags": []
   },
   "outputs": [
    {
     "data": {
      "text/plain": [
       "1"
      ]
     },
     "execution_count": 11,
     "metadata": {},
     "output_type": "execute_result"
    }
   ],
   "source": [
    "data = 1 if 11 % 2 == 1 else 0\n",
    "data"
   ]
  },
  {
   "cell_type": "code",
   "execution_count": 14,
   "id": "71e39340-f497-4439-99f9-b9b31df19eae",
   "metadata": {
    "tags": []
   },
   "outputs": [
    {
     "data": {
      "text/plain": [
       "['odd', 'even', 'odd', 'even']"
      ]
     },
     "execution_count": 14,
     "metadata": {},
     "output_type": "execute_result"
    }
   ],
   "source": [
    "[ 1 if i % 2 == 1 else 0 for i in range(1, 11, 3)]\n",
    "['odd' if i % 2 == 1 else 'even' for i in range(1, 11, 3)]\n",
    "['zero' if i == 0 else 'odd' if i % 2 == 1 else 'even' for i in range(10)]"
   ]
  },
  {
   "cell_type": "code",
   "execution_count": 18,
   "id": "8c7ec8ba-f096-4d03-ab2f-590b2d7601d4",
   "metadata": {
    "tags": []
   },
   "outputs": [
    {
     "data": {
      "text/plain": [
       "0"
      ]
     },
     "execution_count": 18,
     "metadata": {},
     "output_type": "execute_result"
    }
   ],
   "source": [
    "# 2차원 리스트\n",
    "[[i, j] for i in range(3) for j in range(2)]\n",
    "d = [[i, j] for i in range(5) for j in range(3)]\n",
    "d\n",
    "d[0][0]\n",
    "d[0][1]"
   ]
  },
  {
   "cell_type": "code",
   "execution_count": 22,
   "id": "d6bbfc12-df56-4958-a28c-c4f8b5719e9b",
   "metadata": {
    "tags": []
   },
   "outputs": [
    {
     "data": {
      "text/plain": [
       "[[0, 1, 2, 3], [0, 1, 2, 3], [0, 1, 2, 3], [0, 1, 2, 3]]"
      ]
     },
     "execution_count": 22,
     "metadata": {},
     "output_type": "execute_result"
    }
   ],
   "source": [
    "[[col for col in range(4)] for row in range(2)]\n",
    "[[col for col in range(4)] for row in range(4)]"
   ]
  },
  {
   "cell_type": "code",
   "execution_count": 24,
   "id": "1135a6a1-835b-44f3-b7f8-c76804e80dc9",
   "metadata": {
    "tags": []
   },
   "outputs": [
    {
     "data": {
      "text/plain": [
       "[[0, 1, 2, 3], [1, 2, 3, 4], [2, 3, 4, 5], [3, 4, 5, 6]]"
      ]
     },
     "execution_count": 24,
     "metadata": {},
     "output_type": "execute_result"
    }
   ],
   "source": [
    "[[col for col in range(row, row + 4)] for row in range(4)]"
   ]
  },
  {
   "cell_type": "code",
   "execution_count": null,
   "id": "cae3caef-5656-49c6-9dba-4cbb9e254073",
   "metadata": {},
   "outputs": [],
   "source": []
  }
 ],
 "metadata": {
  "kernelspec": {
   "display_name": "Python 3 (ipykernel)",
   "language": "python",
   "name": "python3"
  },
  "language_info": {
   "codemirror_mode": {
    "name": "ipython",
    "version": 3
   },
   "file_extension": ".py",
   "mimetype": "text/x-python",
   "name": "python",
   "nbconvert_exporter": "python",
   "pygments_lexer": "ipython3",
   "version": "3.10.4"
  }
 },
 "nbformat": 4,
 "nbformat_minor": 5
}
