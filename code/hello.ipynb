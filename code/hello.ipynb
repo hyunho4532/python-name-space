{
 "cells": [
  {
   "cell_type": "code",
   "execution_count": 1,
   "metadata": {},
   "outputs": [],
   "source": [
    "import sys"
   ]
  },
  {
   "cell_type": "code",
   "execution_count": 2,
   "metadata": {},
   "outputs": [
    {
     "data": {
      "text/plain": [
       "'3.10.4 (main, Apr  3 2023, 22:35:52) [GCC 9.4.0]'"
      ]
     },
     "execution_count": 2,
     "metadata": {},
     "output_type": "execute_result"
    }
   ],
   "source": [
    "sys.version"
   ]
  },
  {
   "cell_type": "code",
   "execution_count": 4,
   "metadata": {},
   "outputs": [
    {
     "name": "stdout",
     "output_type": "stream",
     "text": [
      "입력한 ID: 12345678\n",
      "로그인 성공: 25743448\n"
     ]
    }
   ],
   "source": [
    "orgPhd = int(input('ID로 사용할 8자리의 정수를 입력하세요 >> '))\n",
    "keyMask = 20230422\n",
    "encPhd = orgPhd ^ keyMask\n",
    "\n",
    "print('입력한 ID: %d' % orgPhd)\n",
    "print('로그인 성공: %d' % encPhd);"
   ]
  },
  {
   "cell_type": "code",
   "execution_count": 7,
   "metadata": {},
   "outputs": [],
   "source": [
    "orgPhd = int(input('로그인할 ID 입력하세요 >> '))"
   ]
  },
  {
   "cell_type": "code",
   "execution_count": 8,
   "metadata": {},
   "outputs": [
    {
     "name": "stdout",
     "output_type": "stream",
     "text": [
      "로그인 성공: 20231620\n"
     ]
    }
   ],
   "source": [
    "keyMask = 20230422\n",
    "encPhd = orgPhd ^ keyMask\n",
    "print('로그인 성공: {}'.format(encPhd))"
   ]
  }
 ],
 "metadata": {
  "kernelspec": {
   "display_name": "Python 3",
   "language": "python",
   "name": "python3"
  },
  "language_info": {
   "codemirror_mode": {
    "name": "ipython",
    "version": 3
   },
   "file_extension": ".py",
   "mimetype": "text/x-python",
   "name": "python",
   "nbconvert_exporter": "python",
   "pygments_lexer": "ipython3",
   "version": "3.10.4"
  },
  "orig_nbformat": 4
 },
 "nbformat": 4,
 "nbformat_minor": 2
}
